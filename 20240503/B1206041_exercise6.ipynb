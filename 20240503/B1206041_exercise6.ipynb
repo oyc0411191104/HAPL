{
  "nbformat": 4,
  "nbformat_minor": 0,
  "metadata": {
    "colab": {
      "provenance": []
    },
    "kernelspec": {
      "name": "python3",
      "display_name": "Python 3"
    },
    "language_info": {
      "name": "python"
    }
  },
  "cells": [
    {
      "cell_type": "code",
      "execution_count": 15,
      "metadata": {
        "colab": {
          "base_uri": "https://localhost:8080/"
        },
        "id": "xdtKVZVl8FFk",
        "outputId": "2dc8c2c7-11f0-4843-efe1-2f8355384a02"
      },
      "outputs": [
        {
          "output_type": "stream",
          "name": "stdout",
          "text": [
            "聖誕樹層數:9\n",
            "        *\n",
            "       ***\n",
            "      *****\n",
            "     *******\n",
            "    *********\n",
            "   ***********\n",
            "  *************\n",
            " ***************\n",
            "*****************\n",
            "       ***\n",
            "       ***\n",
            "       ***\n",
            "       ***\n",
            "       ***\n"
          ]
        }
      ],
      "source": [
        "def tree():\n",
        "  n=int(input('聖誕樹層數:'))\n",
        "  for i in range(1,n+1):\n",
        "    print(\" \" * (n-i) + \"*\" * (i*2-1))\n",
        "  for o in range(5):\n",
        "    print(\" \" * (i-2) + \"*\" * 3)\n",
        "tree()"
      ]
    },
    {
      "cell_type": "code",
      "source": [
        "def bmi(height,weight):\n",
        "  b=weight/((height/100)**2)\n",
        "  return b\n",
        "try:\n",
        "  height=float(input('身高(公分):'))\n",
        "  weight=float(input('體重:'))\n",
        "  b=bmi(height,weight)\n",
        "  print('BMI:'+str(b))\n",
        "  if b<18.5:\n",
        "    print('體位：過輕')\n",
        "  elif 18.5<=b<24:\n",
        "    print('體位：適中')\n",
        "  elif 24<=b<27:\n",
        "    print('體位：過重')\n",
        "  else:\n",
        "    print('體位：肥胖')\n",
        "except:\n",
        "  print('輸入內容錯誤')\n",
        "  pass"
      ],
      "metadata": {
        "colab": {
          "base_uri": "https://localhost:8080/"
        },
        "id": "ZiAkoZ0cFhT5",
        "outputId": "d4f45364-2337-41ef-ca3f-2e4d9de43498"
      },
      "execution_count": 30,
      "outputs": [
        {
          "output_type": "stream",
          "name": "stdout",
          "text": [
            "身高(公分):164.4\n",
            "體重:55\n",
            "BMI:20.34974929108873\n",
            "體位：適中\n"
          ]
        }
      ]
    }
  ]
}