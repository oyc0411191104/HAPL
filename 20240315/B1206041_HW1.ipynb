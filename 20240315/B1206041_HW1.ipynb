{
  "nbformat": 4,
  "nbformat_minor": 0,
  "metadata": {
    "colab": {
      "provenance": []
    },
    "kernelspec": {
      "name": "python3",
      "display_name": "Python 3"
    },
    "language_info": {
      "name": "python"
    }
  },
  "cells": [
    {
      "cell_type": "code",
      "execution_count": 1,
      "metadata": {
        "colab": {
          "base_uri": "https://localhost:8080/"
        },
        "id": "p0hDC_1W5ixP",
        "outputId": "0b6b1122-0a58-469e-a80f-141d7248c51f"
      },
      "outputs": [
        {
          "output_type": "stream",
          "name": "stdout",
          "text": [
            "I'm a student.\n"
          ]
        }
      ],
      "source": [
        "a=\"I'm a student.\"\n",
        "print(a)"
      ]
    },
    {
      "cell_type": "code",
      "source": [
        "a=float(input('輸入座標A(x1)：'))\n",
        "A=float(input('輸入座標A(y1)：'))\n",
        "b=float(input('輸入座標B(x2)：'))\n",
        "B=float(input('輸入座標B(y2)：'))\n",
        "x=str(((b-a)**2+(B-A)**2)**0.5)\n",
        "print(\"AB的距離：\"+x)"
      ],
      "metadata": {
        "colab": {
          "base_uri": "https://localhost:8080/"
        },
        "id": "lYv7fZUw511d",
        "outputId": "17a069c8-9572-48a0-840f-2bdd7f8f2a3f"
      },
      "execution_count": 13,
      "outputs": [
        {
          "output_type": "stream",
          "name": "stdout",
          "text": [
            "輸入座標A(x1)：0\n",
            "輸入座標A(y1)：0\n",
            "輸入座標B(x2)：6\n",
            "輸入座標B(y2)：8\n",
            "AB的距離：10.0\n"
          ]
        }
      ]
    },
    {
      "cell_type": "code",
      "source": [
        "a=float(input('輸入身高(cm)：'))\n",
        "b=float(input('輸入體重(kg)：'))\n",
        "a/=100\n",
        "a**=2\n",
        "x=str(b/a)\n",
        "print('BMI:'+x)"
      ],
      "metadata": {
        "colab": {
          "base_uri": "https://localhost:8080/"
        },
        "id": "FhFoldJOX4Mr",
        "outputId": "5eb74f07-87fc-4bb8-dd05-7a8817eba2f2"
      },
      "execution_count": 11,
      "outputs": [
        {
          "output_type": "stream",
          "name": "stdout",
          "text": [
            "輸入身高(cm)：164.4\n",
            "輸入體重(kg)：54.5\n",
            "BMI:20.164751570260652\n"
          ]
        }
      ]
    }
  ]
}