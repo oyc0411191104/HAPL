{
  "nbformat": 4,
  "nbformat_minor": 0,
  "metadata": {
    "colab": {
      "provenance": []
    },
    "kernelspec": {
      "name": "python3",
      "display_name": "Python 3"
    },
    "language_info": {
      "name": "python"
    }
  },
  "cells": [
    {
      "cell_type": "code",
      "execution_count": 1,
      "metadata": {
        "colab": {
          "base_uri": "https://localhost:8080/"
        },
        "id": "cuYuASC2wIx4",
        "outputId": "e985b06f-82e9-4d28-bf56-cb17025c81f1"
      },
      "outputs": [
        {
          "output_type": "stream",
          "name": "stdout",
          "text": [
            "長庚大學\n",
            "職治系\n",
            "歐陽靖\n"
          ]
        }
      ],
      "source": [
        "a='''長庚大學\n",
        "職治系\n",
        "歐陽靖'''\n",
        "print(a)\n"
      ]
    },
    {
      "cell_type": "code",
      "source": [
        "x=3**5\n",
        "print(x)"
      ],
      "metadata": {
        "colab": {
          "base_uri": "https://localhost:8080/"
        },
        "id": "U2Kj7jSazMvV",
        "outputId": "add800dd-b178-4ebc-900b-72d642c5bd9c"
      },
      "execution_count": 2,
      "outputs": [
        {
          "output_type": "stream",
          "name": "stdout",
          "text": [
            "243\n"
          ]
        }
      ]
    },
    {
      "cell_type": "code",
      "source": [
        "y=3\n",
        "y/=5\n",
        "print(y)"
      ],
      "metadata": {
        "colab": {
          "base_uri": "https://localhost:8080/"
        },
        "id": "s7IcWUnE0lcF",
        "outputId": "41dd66fa-8661-48b2-fa5f-4997064c1e5e"
      },
      "execution_count": 3,
      "outputs": [
        {
          "output_type": "stream",
          "name": "stdout",
          "text": [
            "0.6\n"
          ]
        }
      ]
    }
  ]
}