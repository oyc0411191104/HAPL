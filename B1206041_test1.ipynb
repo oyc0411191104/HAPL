{
  "nbformat": 4,
  "nbformat_minor": 0,
  "metadata": {
    "colab": {
      "provenance": []
    },
    "kernelspec": {
      "name": "python3",
      "display_name": "Python 3"
    },
    "language_info": {
      "name": "python"
    }
  },
  "cells": [
    {
      "cell_type": "code",
      "execution_count": null,
      "metadata": {
        "colab": {
          "base_uri": "https://localhost:8080/"
        },
        "id": "pJTLkPF_uwz8",
        "outputId": "661cdebe-6f8d-4438-bbc4-510c3ecc8a03"
      },
      "outputs": [
        {
          "output_type": "stream",
          "name": "stdout",
          "text": [
            "Hi! World!\n",
            "in my in my in my newwwww World!\n",
            "\n",
            "Hi! World! in my in my in my newwwww World!\n",
            "\n",
            "Hi! World!\n",
            "in my in my in my newwwww World!\n"
          ]
        }
      ],
      "source": [
        "h='Hi!'\n",
        "i='in'\n",
        "m='my'\n",
        "s=' '\n",
        "n='newwwww'\n",
        "w='World!'\n",
        "print(h+s+w)\n",
        "print((i+s+m+s)*3+n+s+w)\n",
        "print( )\n",
        "print(h+s+w, end=' ')\n",
        "print((i+s+m+s)*3+n+s+w)\n",
        "print( )\n",
        "print(h+s+w, end='\\n')\n",
        "print((i+s+m+s)*3+n+s+w)"
      ]
    }
  ]
}