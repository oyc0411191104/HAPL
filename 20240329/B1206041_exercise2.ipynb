{
  "nbformat": 4,
  "nbformat_minor": 0,
  "metadata": {
    "colab": {
      "provenance": []
    },
    "kernelspec": {
      "name": "python3",
      "display_name": "Python 3"
    },
    "language_info": {
      "name": "python"
    }
  },
  "cells": [
    {
      "cell_type": "code",
      "execution_count": 36,
      "metadata": {
        "colab": {
          "base_uri": "https://localhost:8080/"
        },
        "id": "SOH5NI_KoIjt",
        "outputId": "15d4dc36-2535-4d29-b1f0-6c280a619b42"
      },
      "outputs": [
        {
          "output_type": "stream",
          "name": "stdout",
          "text": [
            "{'姓名': '賴宏瑋', '性別': '男', '作業分數': [100, 100, 90], '學號': 'M1129020'}\n",
            "96.66666666666667\n"
          ]
        }
      ],
      "source": [
        "a={'姓名':'賴宏瑋','性別':'男','作業分數':[80,95,100,90]}\n",
        "#b=a['作業分數'][0]\n",
        "a['學號']='M1129020'\n",
        "#b=a['學號']\n",
        "a['作業分數'][1]=100\n",
        "del a['作業分數'][0]\n",
        "print(a)\n",
        "x=a['作業分數'][0]\n",
        "y=a['作業分數'][1]\n",
        "z=a['作業分數'][2]\n",
        "c=(x+y+z)/3\n",
        "print(c)\n"
      ]
    }
  ]
}