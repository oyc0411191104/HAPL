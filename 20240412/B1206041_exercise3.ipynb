{
  "nbformat": 4,
  "nbformat_minor": 0,
  "metadata": {
    "colab": {
      "provenance": []
    },
    "kernelspec": {
      "name": "python3",
      "display_name": "Python 3"
    },
    "language_info": {
      "name": "python"
    }
  },
  "cells": [
    {
      "cell_type": "code",
      "execution_count": 8,
      "metadata": {
        "colab": {
          "base_uri": "https://localhost:8080/"
        },
        "id": "yrNnceNxt6S5",
        "outputId": "190e74fe-a285-43de-b99b-0bda9d2f9ca1"
      },
      "outputs": [
        {
          "output_type": "stream",
          "name": "stdout",
          "text": [
            "輸入身高(cm)：164.4\n",
            "輸入體重(kg)：55\n",
            "BMI:20.34974929108873\n",
            "體位：適中\n"
          ]
        }
      ],
      "source": [
        "a=float(input('輸入身高(cm)：'))\n",
        "b=float(input('輸入體重(kg)：'))\n",
        "a/=100\n",
        "a**=2\n",
        "c=b/a\n",
        "x=str(c)\n",
        "print('BMI:'+x)\n",
        "if c<18.5:\n",
        "  print('體位：過輕')\n",
        "elif 18.5<=c<24:\n",
        "  print('體位：適中')\n",
        "elif 24<=c<27:\n",
        "  print('體位：過重')\n",
        "else:\n",
        "  print('體位：肥胖')"
      ]
    },
    {
      "cell_type": "code",
      "source": [
        "a=float(input('請輸入第一個數字：'))\n",
        "b=str(input('請輸入運算符號：'))\n",
        "c=float(input('請輸入第二個數字：'))\n",
        "if b=='+':\n",
        "  d=a+c\n",
        "  print(d)\n",
        "elif b=='-':\n",
        "  d=a-c\n",
        "  print(d)\n",
        "elif b=='*':\n",
        "  d=a*c\n",
        "  print(d)\n",
        "else:\n",
        "  d=a/c\n",
        "  print(d)"
      ],
      "metadata": {
        "colab": {
          "base_uri": "https://localhost:8080/"
        },
        "id": "ojVG6jrS17d3",
        "outputId": "f47b335b-b09f-4d48-bd6f-79bc190321c6"
      },
      "execution_count": 17,
      "outputs": [
        {
          "output_type": "stream",
          "name": "stdout",
          "text": [
            "請輸入第一個數字：8\n",
            "請輸入運算符號：/\n",
            "請輸入第二個數字：4\n",
            "2.0\n"
          ]
        }
      ]
    }
  ]
}