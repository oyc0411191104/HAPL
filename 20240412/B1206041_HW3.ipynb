{
  "nbformat": 4,
  "nbformat_minor": 0,
  "metadata": {
    "colab": {
      "provenance": []
    },
    "kernelspec": {
      "name": "python3",
      "display_name": "Python 3"
    },
    "language_info": {
      "name": "python"
    }
  },
  "cells": [
    {
      "cell_type": "code",
      "execution_count": null,
      "metadata": {
        "colab": {
          "base_uri": "https://localhost:8080/"
        },
        "id": "ITOVpm6d5wIs",
        "outputId": "6d9c09be-d4a1-4b7e-8598-44b26bd4aaac"
      },
      "outputs": [
        {
          "output_type": "stream",
          "name": "stdout",
          "text": [
            "請輸入一個西元年份：1200\n",
            "閏年\n"
          ]
        }
      ],
      "source": [
        "a=float(input('請輸入一個西元年份：'))\n",
        "if a<1582:\n",
        "  b=a/4\n",
        "  c=a//4\n",
        "  d=b-c\n",
        "  if d==0:\n",
        "    print('閏年')\n",
        "  else:\n",
        "    print('平年')\n",
        "else:\n",
        "  b=a/4\n",
        "  c=a//4\n",
        "  d=b-c\n",
        "  x=a/100\n",
        "  y=a//100\n",
        "  z=x-y\n",
        "  if d==0 and z==0:\n",
        "    print('平年')\n",
        "  elif d==0 and z!=0:\n",
        "    print('閏年')\n",
        "  else:\n",
        "    print('平年')"
      ]
    }
  ]
}